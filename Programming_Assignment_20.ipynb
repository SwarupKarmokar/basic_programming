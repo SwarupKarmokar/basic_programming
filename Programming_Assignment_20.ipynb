{
 "cells": [
  {
   "cell_type": "markdown",
   "metadata": {},
   "source": [
    "# Programming_Assignment_20"
   ]
  },
  {
   "cell_type": "markdown",
   "metadata": {},
   "source": [
    "#### Question1\n",
    "#### Create a function that takes a list of strings and integers, and filters out the list so that it\n",
    "#### returns a list of integers only.\n",
    "#### Examples\n",
    "#### filter_list([1, 2, 3, &quot;a&quot;, &quot;b&quot;, 4]) ➞ [1, 2, 3, 4]\n",
    "#### filter_list([&quot;A&quot;, 0, &quot;Edabit&quot;, 1729, &quot;Python&quot;, &quot;1729&quot;]) ➞ [0, 1729]\n",
    "#### filter_list([&quot;Nothing&quot;, &quot;here&quot;]) ➞ []"
   ]
  },
  {
   "cell_type": "code",
   "execution_count": 1,
   "metadata": {},
   "outputs": [
    {
     "name": "stdout",
     "output_type": "stream",
     "text": [
      "[1, 2, 3, 4]\n"
     ]
    }
   ],
   "source": [
    "int_list = []\n",
    "def filter_list(item):\n",
    "    for i in item:\n",
    "        if type(i) == int:\n",
    "            int_list.append(i)\n",
    "    print(int_list)\n",
    "    \n",
    "filter_list([1, 2, 3, \"a\", \"b\", 4])"
   ]
  },
  {
   "cell_type": "markdown",
   "metadata": {},
   "source": [
    "#### Question2\n",
    "#### Given a list of numbers, create a function which returns the list but with each element&#39;s\n",
    "#### index in the list added to itself. This means you add 0 to the number at index 0, add 1 to the\n",
    "#### number at index 1, etc...\n",
    "#### Examples\n",
    "#### add_indexes([0, 0, 0, 0, 0]) ➞ [0, 1, 2, 3, 4]\n",
    "#### add_indexes([1, 2, 3, 4, 5]) ➞ [1, 3, 5, 7, 9]\n",
    "#### add_indexes([5, 4, 3, 2, 1]) ➞ [5, 5, 5, 5, 5]"
   ]
  },
  {
   "cell_type": "code",
   "execution_count": 8,
   "metadata": {},
   "outputs": [
    {
     "name": "stdout",
     "output_type": "stream",
     "text": [
      "[1, 3, 5, 7, 9]\n"
     ]
    }
   ],
   "source": [
    "index_list = []\n",
    "def add_indexes(item):\n",
    "    for i in item:\n",
    "        index_list.append(i + item.index(i))\n",
    "    print(index_list)\n",
    "add_indexes([1, 2, 3, 4, 5])"
   ]
  },
  {
   "cell_type": "markdown",
   "metadata": {},
   "source": [
    "#### Question3\n",
    "#### Create a function that takes the height and radius of a cone as arguments and returns the\n",
    "#### volume of the cone rounded to the nearest hundredth. See the resources tab for the formula.\n",
    "\n",
    "#### Examples\n",
    "#### cone_volume(3, 2) ➞ 12.57"
   ]
  },
  {
   "cell_type": "code",
   "execution_count": 20,
   "metadata": {},
   "outputs": [
    {
     "name": "stdin",
     "output_type": "stream",
     "text": [
      "enter radius:  15\n",
      "enter height:  6\n"
     ]
    },
    {
     "data": {
      "text/plain": [
       "1413.0"
      ]
     },
     "execution_count": 20,
     "metadata": {},
     "output_type": "execute_result"
    }
   ],
   "source": [
    "pi = 3.14\n",
    "def cone_volume(r, h):\n",
    "    volume = (1 / 3) * pi * r * r * h\n",
    "    return round(volume,2)\n",
    "\n",
    "cone_volume(int(input('enter radius: ')), int(input('enter height: ')))"
   ]
  },
  {
   "cell_type": "markdown",
   "metadata": {},
   "source": [
    "#### Question4\n",
    "#### This Triangular Number Sequence is generated from a pattern of dots that form a triangle.\n",
    "#### The first 5 numbers of the sequence, or dots, are:\n",
    "#### 1, 3, 6, 10, 15\n",
    "#### This means that the first triangle has just one dot, the second one has three dots, the third one\n",
    "#### has 6 dots and so on.\n",
    "#### Write a function that gives the number of dots with its corresponding triangle number of the\n",
    "#### sequence.\n",
    "#### Examples\n",
    "#### triangle(1) ➞ 1\n",
    "#### triangle(6) ➞ 21\n",
    "#### triangle(215) ➞ 23220"
   ]
  },
  {
   "cell_type": "code",
   "execution_count": 26,
   "metadata": {},
   "outputs": [
    {
     "name": "stdin",
     "output_type": "stream",
     "text": [
      "enter the number:  6\n"
     ]
    },
    {
     "data": {
      "text/plain": [
       "21"
      ]
     },
     "execution_count": 26,
     "metadata": {},
     "output_type": "execute_result"
    }
   ],
   "source": [
    "def triangle(num):\n",
    "    dots = (num*(num+1))//2\n",
    "    return dots\n",
    "triangle(int(input('enter the number: ')))"
   ]
  },
  {
   "cell_type": "markdown",
   "metadata": {},
   "source": [
    "#### Question5\n",
    "#### Create a function that takes a list of numbers between 1 and 10 (excluding one number) and\n",
    "#### returns the missing number.\n",
    "#### Examples\n",
    "#### missing_num([1, 2, 3, 4, 6, 7, 8, 9, 10]) ➞ 5\n",
    "#### missing_num([7, 2, 3, 6, 5, 9, 1, 4, 8]) ➞ 10\n",
    "#### missing_num([10, 5, 1, 2, 4, 6, 8, 3, 9]) ➞ 7"
   ]
  },
  {
   "cell_type": "code",
   "execution_count": 28,
   "metadata": {},
   "outputs": [
    {
     "data": {
      "text/plain": [
       "7"
      ]
     },
     "execution_count": 28,
     "metadata": {},
     "output_type": "execute_result"
    }
   ],
   "source": [
    "def missing_num(item):\n",
    "    for i in range(1,11):\n",
    "        if i not in item:\n",
    "            return i\n",
    "missing_num([10, 5, 1, 2, 4, 6, 8, 3, 9])"
   ]
  },
  {
   "cell_type": "code",
   "execution_count": null,
   "metadata": {},
   "outputs": [],
   "source": []
  }
 ],
 "metadata": {
  "kernelspec": {
   "display_name": "Python 3",
   "language": "python",
   "name": "python3"
  },
  "language_info": {
   "codemirror_mode": {
    "name": "ipython",
    "version": 3
   },
   "file_extension": ".py",
   "mimetype": "text/x-python",
   "name": "python",
   "nbconvert_exporter": "python",
   "pygments_lexer": "ipython3",
   "version": "3.8.5"
  }
 },
 "nbformat": 4,
 "nbformat_minor": 4
}
