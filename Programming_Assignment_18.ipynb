{
 "cells": [
  {
   "cell_type": "markdown",
   "metadata": {},
   "source": [
    "# Programming_Assignment_18"
   ]
  },
  {
   "cell_type": "markdown",
   "metadata": {},
   "source": [
    "#### Question 1\n",
    "#### Create a function that takes a list of non-negative integers and strings and return a new list\n",
    "#### without the strings.\n",
    "#### Examples\n",
    "#### filter_list([1, 2, &quot;a&quot;, &quot;b&quot;]) ➞ [1, 2]\n",
    "#### filter_list([1, &quot;a&quot;, &quot;b&quot;, 0, 15]) ➞ [1, 0, 15]\n",
    "#### filter_list([1, 2, &quot;aasf&quot;, &quot;1&quot;, &quot;123&quot;, 123]) ➞ [1, 2, 123]"
   ]
  },
  {
   "cell_type": "code",
   "execution_count": 2,
   "metadata": {},
   "outputs": [
    {
     "name": "stdout",
     "output_type": "stream",
     "text": [
      "[1, 2, 3]\n"
     ]
    }
   ],
   "source": [
    "new_list = []\n",
    "\n",
    "def filter_list(item):\n",
    "    for i in item:\n",
    "        if type(i) == int:\n",
    "            new_list.append(i)\n",
    "            \n",
    "    print(new_list) \n",
    "    \n",
    "filter_list([1,2,3,'a','b'])"
   ]
  },
  {
   "cell_type": "markdown",
   "metadata": {},
   "source": [
    "#### Question 2\n",
    "#### The &quot;Reverser&quot; takes a string as input and returns that string in reverse order, with the\n",
    "#### opposite case.\n",
    "#### Examples\n",
    "#### reverse(&quot;Hello World&quot;) ➞ &quot;DLROw OLLEh&quot;\n",
    "#### reverse(&quot;ReVeRsE&quot;) ➞ &quot;eSrEvEr&quot;\n",
    "#### reverse(&quot;Radar&quot;) ➞ &quot;RADAr&quot;"
   ]
  },
  {
   "cell_type": "code",
   "execution_count": 11,
   "metadata": {},
   "outputs": [
    {
     "name": "stdin",
     "output_type": "stream",
     "text": [
      "enter your text:  Hello How Are You\n"
     ]
    },
    {
     "name": "stdout",
     "output_type": "stream",
     "text": [
      "UOy ERa WOh OLLEh\n"
     ]
    }
   ],
   "source": [
    "new_text = []\n",
    "def reverse(text):\n",
    "    text = text[::-1]\n",
    "    for i in text:\n",
    "        if i == i.lower():\n",
    "            new_text.append(i.upper())\n",
    "        elif i == i.upper():\n",
    "            new_text.append(i.lower())\n",
    "            \n",
    "    print(''.join(new_text))\n",
    "    \n",
    "reverse(input('enter your text: '))"
   ]
  },
  {
   "cell_type": "markdown",
   "metadata": {},
   "source": [
    "#### Question 3\n",
    "#### You can assign variables from lists like this:\n",
    "#### lst = [1, 2, 3, 4, 5, 6]\n",
    "#### first = lst[0]\n",
    "#### middle = lst[1:-1]\n",
    "#### last = lst[-1]\n",
    "#### print(first) ➞ outputs 1\n",
    "#### print(middle) ➞ outputs [2, 3, 4, 5]\n",
    "#### print(last) ➞ outputs 6\n",
    "#### With Python 3, you can assign variables from lists in a much more succinct way. Create\n",
    "#### variables first, middle and last from the given list using destructuring assignment\n",
    "#### (check the Resources tab for some examples), where:\n",
    "#### first ➞ 1\n",
    "#### middle ➞ [2, 3, 4, 5]\n",
    "#### last ➞ 6\n",
    "\n",
    "#### Your task is to unpack the list writeyourcodehere into three variables, being first,\n",
    "#### middle, and last, with middle being everything in between the first and last element. Then\n",
    "#### print all three variables."
   ]
  },
  {
   "cell_type": "code",
   "execution_count": 12,
   "metadata": {},
   "outputs": [
    {
     "name": "stdout",
     "output_type": "stream",
     "text": [
      "first output: 1 Middle output: [2, 3, 4, 5] last output: 6\n"
     ]
    }
   ],
   "source": [
    "lst = [1, 2, 3, 4, 5, 6]\n",
    "first = lst[0]\n",
    "middle = lst[1:-1]\n",
    "last = lst[-1]\n",
    "print(f\"first output: {first} Middle output: {middle} last output: {last}\")"
   ]
  },
  {
   "cell_type": "markdown",
   "metadata": {},
   "source": [
    "#### Question 4\n",
    "#### Write a function that calculates the factorial of a number recursively.\n",
    "#### Examples\n",
    "#### factorial(5) ➞ 120\n",
    "#### factorial(3) ➞ 6\n",
    "#### factorial(1) ➞ 1\n",
    "#### factorial(0) ➞ 1"
   ]
  },
  {
   "cell_type": "code",
   "execution_count": null,
   "metadata": {},
   "outputs": [],
   "source": [
    "def factorial(n):\n",
    "    if n == 1:\n",
    "        return n\n",
    "    else:\n",
    "        return n*factorial(n-1)\n",
    "factorial(5)"
   ]
  },
  {
   "cell_type": "markdown",
   "metadata": {},
   "source": [
    "#### Question 5\n",
    "#### Write a function that moves all elements of one type to the end of the list.\n",
    "#### Examples\n",
    "#### move_to_end([1, 3, 2, 4, 4, 1], 1) ➞ [3, 2, 4, 4, 1, 1]\n",
    "#### # Move all the 1s to the end of the array.\n",
    "#### move_to_end([7, 8, 9, 1, 2, 3, 4], 9) ➞ [7, 8, 1, 2, 3, 4, 9]\n",
    "#### move_to_end([&quot;a&quot;, &quot;a&quot;, &quot;a&quot;, &quot;b&quot;], &quot;a&quot;) ➞ [&quot;b&quot;, &quot;a&quot;, &quot;a&quot;, &quot;a&quot;]"
   ]
  },
  {
   "cell_type": "code",
   "execution_count": 14,
   "metadata": {},
   "outputs": [
    {
     "data": {
      "text/plain": [
       "[1, 2, 3, 4, 'a']"
      ]
     },
     "execution_count": 14,
     "metadata": {},
     "output_type": "execute_result"
    }
   ],
   "source": [
    "def move_to_end(list_element,item):\n",
    "    list_element.append(item)\n",
    "    return list_element\n",
    "\n",
    "move_to_end([1,2,3,4],\"a\")"
   ]
  },
  {
   "cell_type": "code",
   "execution_count": null,
   "metadata": {},
   "outputs": [],
   "source": []
  }
 ],
 "metadata": {
  "kernelspec": {
   "display_name": "Python 3",
   "language": "python",
   "name": "python3"
  },
  "language_info": {
   "codemirror_mode": {
    "name": "ipython",
    "version": 3
   },
   "file_extension": ".py",
   "mimetype": "text/x-python",
   "name": "python",
   "nbconvert_exporter": "python",
   "pygments_lexer": "ipython3",
   "version": "3.8.5"
  }
 },
 "nbformat": 4,
 "nbformat_minor": 4
}
