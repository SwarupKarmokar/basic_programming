{
 "cells": [
  {
   "cell_type": "markdown",
   "metadata": {},
   "source": [
    "# Programming_Assignment_11"
   ]
  },
  {
   "cell_type": "markdown",
   "metadata": {},
   "source": [
    "#### 1. Write a Python program to find words which are greater than given length k?"
   ]
  },
  {
   "cell_type": "code",
   "execution_count": null,
   "metadata": {},
   "outputs": [],
   "source": [
    "string = input('enter the string: ')\n",
    "k = int(input('enter the value of k: '))\n",
    "\n",
    "for i in string.split():\n",
    "    if len(i) > k:\n",
    "        print('\\n greater word of given length k is => ',i)"
   ]
  },
  {
   "cell_type": "markdown",
   "metadata": {},
   "source": [
    "#### 2. Write a Python program for removing i-th character from a string?"
   ]
  },
  {
   "cell_type": "code",
   "execution_count": null,
   "metadata": {},
   "outputs": [],
   "source": [
    "string = input('enter the string: ')\n",
    "\n",
    "i_th_char = int(input('enter the i_th_char: '))\n",
    "\n",
    "for i in string:\n",
    "    if string.index(i) == i_th_char:\n",
    "        new_str = string[:i_th_char] + string[(i_th_char+1):]\n",
    "        print(\"\\nYour new string is = \",new_str)"
   ]
  },
  {
   "cell_type": "markdown",
   "metadata": {},
   "source": [
    "#### 3. Write a Python program to split and join a string?"
   ]
  },
  {
   "cell_type": "code",
   "execution_count": null,
   "metadata": {},
   "outputs": [],
   "source": [
    "string = input('enter the string: ')\n",
    "\n",
    "split_str = string.split()\n",
    "print(split_str)\n",
    "\n",
    "join_str = ' '.join(split_str)\n",
    "print('\\n',join_str)"
   ]
  },
  {
   "cell_type": "markdown",
   "metadata": {},
   "source": [
    "#### 4. Write a Python to check if a given string is binary string or not?"
   ]
  },
  {
   "cell_type": "code",
   "execution_count": null,
   "metadata": {},
   "outputs": [],
   "source": [
    "b_str = input('enter your binary string: ')\n",
    "\n",
    "if {'0'} == set(b_str) or {'1'} == set(b_str) or {'0','1'} == set(b_str):\n",
    "    print('yes')\n",
    "else:\n",
    "    print('no')"
   ]
  },
  {
   "cell_type": "markdown",
   "metadata": {},
   "source": [
    "#### 5. Write a Python program to find uncommon words from two Strings?"
   ]
  },
  {
   "cell_type": "code",
   "execution_count": null,
   "metadata": {},
   "outputs": [],
   "source": [
    "str1 = input('enter first string: ')\n",
    "str2 = input('enter second string: ')\n",
    "\n",
    "split_str1 = str1.split()\n",
    "split_str2 = str2.split()\n",
    "\n",
    "print(\"\\nUncommon Word:\\n\")\n",
    "for i in split_str1:\n",
    "    if i not in split_str2:\n",
    "        print(i)"
   ]
  },
  {
   "cell_type": "markdown",
   "metadata": {},
   "source": [
    "#### 6. Write a Python to find all duplicate characters in string?"
   ]
  },
  {
   "cell_type": "code",
   "execution_count": null,
   "metadata": {},
   "outputs": [],
   "source": [
    "string = input('enter your string: ')\n",
    "\n",
    "duplicate = []\n",
    "for i in string:\n",
    "    if string.count(i) > 1:\n",
    "        if i not in duplicate:\n",
    "            duplicate.append(i)\n",
    "        \n",
    "print('all duplicte charactor: ',duplicate)"
   ]
  },
  {
   "cell_type": "markdown",
   "metadata": {},
   "source": [
    "#### 7. Write a Python Program to check if a string contains any special character?"
   ]
  },
  {
   "cell_type": "code",
   "execution_count": null,
   "metadata": {},
   "outputs": [],
   "source": [
    "special_characters = '[@_!#$%^&*()<>?/\\|}{~:]'\n",
    "\n",
    "string = input('enter your string: ')\n",
    "if any(char in special_characters for char in string):\n",
    "    print(\"yes\")\n",
    "else:\n",
    "    print(\"no\")"
   ]
  },
  {
   "cell_type": "code",
   "execution_count": null,
   "metadata": {},
   "outputs": [],
   "source": []
  }
 ],
 "metadata": {
  "kernelspec": {
   "display_name": "Python 3",
   "language": "python",
   "name": "python3"
  },
  "language_info": {
   "codemirror_mode": {
    "name": "ipython",
    "version": 3
   },
   "file_extension": ".py",
   "mimetype": "text/x-python",
   "name": "python",
   "nbconvert_exporter": "python",
   "pygments_lexer": "ipython3",
   "version": "3.8.5"
  }
 },
 "nbformat": 4,
 "nbformat_minor": 4
}
