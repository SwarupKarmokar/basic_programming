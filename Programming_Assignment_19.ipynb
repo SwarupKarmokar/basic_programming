{
 "cells": [
  {
   "cell_type": "markdown",
   "metadata": {},
   "source": [
    "# Programming_Assignment_19"
   ]
  },
  {
   "cell_type": "markdown",
   "metadata": {},
   "source": [
    "#### Question1\n",
    "#### Create a function that takes a string and returns a string in which each character is repeated\n",
    "#### once.\n",
    "#### Examples\n",
    "#### double_char(&quot;String&quot;) ➞ &quot;SSttrriinngg&quot;\n",
    "#### double_char(&quot;Hello World!&quot;) ➞ &quot;HHeelllloo WWoorrlldd!!&quot;\n",
    "#### double_char(&quot;1234!_ &quot;) ➞ &quot;11223344!!__ &quot;"
   ]
  },
  {
   "cell_type": "code",
   "execution_count": 9,
   "metadata": {},
   "outputs": [
    {
     "name": "stdin",
     "output_type": "stream",
     "text": [
      "enter the string:  str\n"
     ]
    },
    {
     "data": {
      "text/plain": [
       "'ssttrr'"
      ]
     },
     "execution_count": 9,
     "metadata": {},
     "output_type": "execute_result"
    }
   ],
   "source": [
    "new_string = []\n",
    "def double_char(text):\n",
    "    for i in text:\n",
    "        new_string.append(i*2)\n",
    "    return ''.join(new_string)\n",
    "    \n",
    "double_char(input('enter the string: '))"
   ]
  },
  {
   "cell_type": "markdown",
   "metadata": {},
   "source": [
    "#### Question2\n",
    "#### Create a function that reverses a boolean value and returns the string &quot;boolean expected&quot;\n",
    "#### if another variable type is given.\n",
    "#### Examples\n",
    "#### reverse(True) ➞ False\n",
    "#### reverse(False) ➞ True\n",
    "#### reverse(0) ➞ &quot;boolean expected&quot;\n",
    "#### reverse(None) ➞ &quot;boolean expected&quot;"
   ]
  },
  {
   "cell_type": "code",
   "execution_count": 25,
   "metadata": {},
   "outputs": [
    {
     "data": {
      "text/plain": [
       "'boolean expected'"
      ]
     },
     "execution_count": 25,
     "metadata": {},
     "output_type": "execute_result"
    }
   ],
   "source": [
    "def reverse(arg):\n",
    "\treturn not arg if type(arg) == bool else \"boolean expected\"\n",
    "reverse(None)"
   ]
  },
  {
   "cell_type": "markdown",
   "metadata": {},
   "source": [
    "#### Question3\n",
    "#### Create a function that returns the thickness (in meters) of a piece of paper after folding it n\n",
    "#### number of times. The paper starts off with a thickness of 0.5mm.\n",
    "#### Examples\n",
    "#### num_layers(1) ➞ &quot;0.001m&quot;\n",
    "#### # Paper folded once is 1mm (equal to 0.001m)\n",
    "#### num_layers(4) ➞ &quot;0.008m&quot;\n",
    "#### # Paper folded 4 times is 8mm (equal to 0.008m)\n",
    "#### num_layers(21) ➞ &quot;1048.576m&quot;\n",
    "#### # Paper folded 21 times is 1048576mm (equal to 1048.576m)"
   ]
  },
  {
   "cell_type": "code",
   "execution_count": 26,
   "metadata": {},
   "outputs": [
    {
     "data": {
      "text/plain": [
       "0.008"
      ]
     },
     "execution_count": 26,
     "metadata": {},
     "output_type": "execute_result"
    }
   ],
   "source": [
    "def num_layers(num):\n",
    "    thickness = 0.5\n",
    "    for i in range(num):\n",
    "        thickness *= 2\n",
    "    return thickness / 1000 \n",
    "num_layers(4)"
   ]
  },
  {
   "cell_type": "markdown",
   "metadata": {},
   "source": [
    "#### Question4\n",
    "#### Create a function that takes a single string as argument and returns an ordered list containing\n",
    "#### the indices of all capital letters in the string.\n",
    "#### Examples\n",
    "#### index_of_caps(&quot;eDaBiT&quot;) ➞ [1, 3, 5]\n",
    "#### index_of_caps(&quot;eQuINoX&quot;) ➞ [1, 3, 4, 6]\n",
    "#### index_of_caps(&quot;determine&quot;) ➞ []\n",
    "#### index_of_caps(&quot;STRIKE&quot;) ➞ [0, 1, 2, 3, 4, 5]\n",
    "#### index_of_caps(&quot;sUn&quot;) ➞ [1]"
   ]
  },
  {
   "cell_type": "code",
   "execution_count": 30,
   "metadata": {},
   "outputs": [
    {
     "name": "stdout",
     "output_type": "stream",
     "text": [
      "[1, 3, 5]\n"
     ]
    }
   ],
   "source": [
    "index_list = []\n",
    "def index_of_caps(text):\n",
    "    for i in text:\n",
    "        if i == i.upper():\n",
    "            index_list.append(text.index(i))\n",
    "    print(index_list)\n",
    "\n",
    "index_of_caps(\"eDaBiT\")"
   ]
  },
  {
   "cell_type": "markdown",
   "metadata": {},
   "source": [
    "#### Question5\n",
    "#### Using list comprehensions, create a function that finds all even numbers from 1 to the given\n",
    "#### number.\n",
    "#### Examples\n",
    "#### find_even_nums(8) ➞ [2, 4, 6, 8]\n",
    "#### find_even_nums(4) ➞ [2, 4]\n",
    "#### find_even_nums(2) ➞ [2]"
   ]
  },
  {
   "cell_type": "code",
   "execution_count": 33,
   "metadata": {},
   "outputs": [
    {
     "data": {
      "text/plain": [
       "[2, 4]"
      ]
     },
     "execution_count": 33,
     "metadata": {},
     "output_type": "execute_result"
    }
   ],
   "source": [
    "def find_even_nums(num):\n",
    "    return [item for item in range(1,num+1) if item % 2==0]\n",
    "find_even_nums(4)"
   ]
  },
  {
   "cell_type": "code",
   "execution_count": null,
   "metadata": {},
   "outputs": [],
   "source": []
  }
 ],
 "metadata": {
  "kernelspec": {
   "display_name": "Python 3",
   "language": "python",
   "name": "python3"
  },
  "language_info": {
   "codemirror_mode": {
    "name": "ipython",
    "version": 3
   },
   "file_extension": ".py",
   "mimetype": "text/x-python",
   "name": "python",
   "nbconvert_exporter": "python",
   "pygments_lexer": "ipython3",
   "version": "3.8.5"
  }
 },
 "nbformat": 4,
 "nbformat_minor": 4
}
