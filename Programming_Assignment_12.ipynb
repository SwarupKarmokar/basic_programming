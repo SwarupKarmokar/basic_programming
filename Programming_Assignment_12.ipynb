{
 "cells": [
  {
   "cell_type": "markdown",
   "metadata": {},
   "source": [
    "# Programming_Assignment_12"
   ]
  },
  {
   "cell_type": "markdown",
   "metadata": {},
   "source": [
    "#### 1. Write a Python program to Extract Unique values dictionary values?"
   ]
  },
  {
   "cell_type": "code",
   "execution_count": null,
   "metadata": {},
   "outputs": [],
   "source": [
    "num = int(input(\"enter how much element you want in the dictionary: \"))\n",
    "d = {}\n",
    "\n",
    "for i in range(num):\n",
    "    print('\\nenter the key name: ')\n",
    "    keys = input()\n",
    "    \n",
    "    print('\\nenter the values for the key: ')\n",
    "    choice_of_input = int(input('enter your choice of input(press--> 1 for int, 2 for float, 3 for str, 4 for list): '))\n",
    "    if choice_of_input == 1:\n",
    "        value = int(input('enter your int values: '))\n",
    "    elif choice_of_input == 2:\n",
    "        value = float('enter your float values: ')\n",
    "    elif choice_of_input == 3:\n",
    "        value = input('enter your string values: ')\n",
    "    elif choice_of_input == 4:\n",
    "        lim = int(input('enter the list element limit: '))\n",
    "        data = []\n",
    "        for i in range(lim):\n",
    "            data.append(int(input('enter list data: ')))\n",
    "        value = data\n",
    "    else:\n",
    "        print('thanks')\n",
    "        \n",
    "    d[keys] = value\n",
    "    print(\"your dictionary's key value pair is = \",d)\n",
    "    \n",
    "result = list(sorted({item for val in d.values() for item in val}))\n",
    "print('\\nyour unique elements sorted values: ',res)"
   ]
  },
  {
   "cell_type": "markdown",
   "metadata": {},
   "source": [
    "#### 2. Write a Python program to find the sum of all items in a dictionary?"
   ]
  },
  {
   "cell_type": "code",
   "execution_count": null,
   "metadata": {},
   "outputs": [],
   "source": [
    "num = int(input(\"enter how much element you want in the dictionary: \"))\n",
    "d = {}\n",
    "\n",
    "for i in range(num):\n",
    "    print('\\nenter the key name: ')\n",
    "    keys = input()\n",
    "\n",
    "    print('\\nenter the values for the key: ')\n",
    "    choice_of_input = int(input('enter your choice of input(press--> 1 for int, 2 for float): '))\n",
    "    if choice_of_input == 1:\n",
    "        values = int(input('enter your int values: '))\n",
    "    elif choice_of_input == 2:\n",
    "        values = float('enter your float values: ')\n",
    "        \n",
    "    d[keys] = values\n",
    "    \n",
    "print('\\ndictionay==>',d)\n",
    "\n",
    "sum1 = 0\n",
    "for i in d:\n",
    "    sum1 = sum1 + d[i]\n",
    "print('\\nsum of all item in a dictionary is =', sum1)"
   ]
  },
  {
   "cell_type": "markdown",
   "metadata": {},
   "source": [
    "#### 3. Write a Python program to Merging two Dictionaries?"
   ]
  },
  {
   "cell_type": "code",
   "execution_count": null,
   "metadata": {},
   "outputs": [],
   "source": [
    "dict1 = {'k1':12, 'k2':24}\n",
    "dict2 = {'k3':'apple', 'k4':'iphone'}\n",
    "\n",
    "dict1.update(dict2)\n",
    "print(dict1)"
   ]
  },
  {
   "cell_type": "markdown",
   "metadata": {},
   "source": [
    "#### 4. Write a Python program to convert key-values list to flat dictionary?"
   ]
  },
  {
   "cell_type": "code",
   "execution_count": null,
   "metadata": {},
   "outputs": [],
   "source": [
    "from itertools import product\n",
    "  \n",
    "test_dict = {'month' : [1, 2, 3],\n",
    "             'name' : ['Jan', 'Feb', 'March']}\n",
    "  \n",
    "print(\"The original dictionary is : \" + str(test_dict))\n",
    "  \n",
    "res = dict(zip(test_dict['month'], test_dict['name']))\n",
    "  \n",
    "print(\"Flattened dictionary : \" + str(res))"
   ]
  },
  {
   "cell_type": "markdown",
   "metadata": {},
   "source": [
    "#### 5. Write a Python program to insertion at the beginning in OrderedDict?"
   ]
  },
  {
   "cell_type": "code",
   "execution_count": null,
   "metadata": {},
   "outputs": [],
   "source": [
    "dict1 = {'k1':12, 'k2':24}\n",
    "dict2 = {'k3':'apple'}\n",
    "\n",
    "new_dict = {**dict2,**dict1}\n",
    "print(new_dict)"
   ]
  },
  {
   "cell_type": "markdown",
   "metadata": {},
   "source": [
    "#### 6. Write a Python program to check order of character in string using OrderedDict()?"
   ]
  },
  {
   "cell_type": "code",
   "execution_count": null,
   "metadata": {},
   "outputs": [],
   "source": []
  },
  {
   "cell_type": "markdown",
   "metadata": {},
   "source": [
    "#### 7. Write a Python program to sort Python Dictionaries by Key or Value?"
   ]
  },
  {
   "cell_type": "code",
   "execution_count": null,
   "metadata": {},
   "outputs": [],
   "source": [
    "def dictionairy(): \n",
    "          \n",
    "    key_value ={}    \n",
    "\n",
    "    key_value[2] = 56       \n",
    "    key_value[1] = 2 \n",
    "    key_value[5] = 12 \n",
    "    key_value[4] = 24\n",
    "    key_value[6] = 18      \n",
    "    key_value[3] = 323 \n",
    "\n",
    "    for i in sorted (key_value.keys()):\n",
    "        print(i, end = \" \")\n",
    "\n",
    "dictionairy()"
   ]
  },
  {
   "cell_type": "code",
   "execution_count": null,
   "metadata": {},
   "outputs": [],
   "source": []
  }
 ],
 "metadata": {
  "kernelspec": {
   "display_name": "Python 3",
   "language": "python",
   "name": "python3"
  },
  "language_info": {
   "codemirror_mode": {
    "name": "ipython",
    "version": 3
   },
   "file_extension": ".py",
   "mimetype": "text/x-python",
   "name": "python",
   "nbconvert_exporter": "python",
   "pygments_lexer": "ipython3",
   "version": "3.8.5"
  }
 },
 "nbformat": 4,
 "nbformat_minor": 4
}
