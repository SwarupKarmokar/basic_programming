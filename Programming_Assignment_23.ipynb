{
 "cells": [
  {
   "cell_type": "markdown",
   "metadata": {},
   "source": [
    "# Programming_Assignment_23"
   ]
  },
  {
   "cell_type": "markdown",
   "metadata": {},
   "source": [
    "#### Question 1\n",
    "#### Create a function that takes a number as an argument and returns True or False depending\n",
    "#### on whether the number is symmetrical or not. A number is symmetrical when it is the same as\n",
    "#### its reverse.\n",
    "#### Examples\n",
    "#### is_symmetrical(7227) ➞ True\n",
    "#### is_symmetrical(12567) ➞ False\n",
    "#### is_symmetrical(44444444) ➞ True\n",
    "#### is_symmetrical(9939) ➞ False\n",
    "#### is_symmetrical(1112111) ➞ True"
   ]
  },
  {
   "cell_type": "code",
   "execution_count": 6,
   "metadata": {},
   "outputs": [
    {
     "data": {
      "text/plain": [
       "True"
      ]
     },
     "execution_count": 6,
     "metadata": {},
     "output_type": "execute_result"
    }
   ],
   "source": [
    "def is_symmetrical(num):\n",
    "    if str(num) == str(num)[::-1]:\n",
    "        return True\n",
    "    else:\n",
    "        return False\n",
    "\n",
    "is_symmetrical(7227)"
   ]
  },
  {
   "cell_type": "markdown",
   "metadata": {},
   "source": [
    "#### Question 2\n",
    "#### Given a string of numbers separated by a comma and space, return the product of the\n",
    "#### numbers.\n",
    "#### Examples\n",
    "#### multiply_nums(&quot;2, 3&quot;) ➞ 6\n",
    "#### multiply_nums(&quot;1, 2, 3, 4&quot;) ➞ 24\n",
    "#### multiply_nums(&quot;54, 75, 453, 0&quot;) ➞ 0\n",
    "#### multiply_nums(&quot;10, -2&quot;) ➞ -20"
   ]
  },
  {
   "cell_type": "code",
   "execution_count": 17,
   "metadata": {},
   "outputs": [
    {
     "data": {
      "text/plain": [
       "6"
      ]
     },
     "execution_count": 17,
     "metadata": {},
     "output_type": "execute_result"
    }
   ],
   "source": [
    "def multiply_nums(str_nums):\n",
    "    str_nums = list(str_nums)\n",
    "    str_nums.remove(',')\n",
    "    mul = 1\n",
    "    for i in str_nums:\n",
    "        mul *= int(i)\n",
    "    return mul\n",
    "\n",
    "multiply_nums(\"2,3\")"
   ]
  },
  {
   "cell_type": "markdown",
   "metadata": {},
   "source": [
    "#### Question 3\n",
    "#### Create a function that squares every digit of a number.\n",
    "#### Examples\n",
    "#### square_digits(9119) ➞ 811181\n",
    "#### square_digits(2483) ➞ 416649\n",
    "#### square_digits(3212) ➞ 9414\n",
    "#### Notes\n",
    "#### The function receives an integer and must return an integer."
   ]
  },
  {
   "cell_type": "code",
   "execution_count": 23,
   "metadata": {},
   "outputs": [
    {
     "name": "stdin",
     "output_type": "stream",
     "text": [
      "enter your num:  9119\n"
     ]
    },
    {
     "name": "stdout",
     "output_type": "stream",
     "text": [
      "811181"
     ]
    }
   ],
   "source": [
    "def square_digits(num):\n",
    "    numbers = list(str(num))\n",
    "    for i in numbers:\n",
    "        print(int(i)**2,end='')\n",
    "        \n",
    "square_digits(int(input('enter your num: ')))"
   ]
  },
  {
   "cell_type": "markdown",
   "metadata": {},
   "source": [
    "#### Question 4\n",
    "#### Create a function that sorts a list and removes all duplicate items from it.\n",
    "#### Examples\n",
    "#### setify([1, 3, 3, 5, 5]) ➞ [1, 3, 5]\n",
    "#### setify([4, 4, 4, 4]) ➞ [4]\n",
    "#### setify([5, 7, 8, 9, 10, 15]) ➞ [5, 7, 8, 9, 10, 15]\n",
    "#### setify([3, 3, 3, 2, 1]) ➞ [1, 2, 3]"
   ]
  },
  {
   "cell_type": "code",
   "execution_count": 25,
   "metadata": {},
   "outputs": [
    {
     "data": {
      "text/plain": [
       "[1, 3, 5]"
      ]
     },
     "execution_count": 25,
     "metadata": {},
     "output_type": "execute_result"
    }
   ],
   "source": [
    "def setify(mylist):\n",
    "    return list(set(mylist))\n",
    "\n",
    "setify([1,3,3,5,5])"
   ]
  },
  {
   "cell_type": "markdown",
   "metadata": {},
   "source": [
    "#### Question 5\n",
    "#### Create a function that returns the mean of all digits.\n",
    "#### Examples\n",
    "#### mean(42) ➞ 3\n",
    "#### mean(12345) ➞ 3\n",
    "#### mean(666) ➞ 6\n",
    "#### Notes\n",
    "####  The mean of all digits is the sum of digits / how many digits there are (e.g. mean of digits in\n",
    "#### 512 is (5+1+2)/3(number of digits) = 8/3=2).\n",
    "####  The mean will always be an integer."
   ]
  },
  {
   "cell_type": "code",
   "execution_count": 32,
   "metadata": {},
   "outputs": [
    {
     "data": {
      "text/plain": [
       "2"
      ]
     },
     "execution_count": 32,
     "metadata": {},
     "output_type": "execute_result"
    }
   ],
   "source": [
    "def mean(num):\n",
    "    digit_sum = 0\n",
    "    for i in list(str(num)):\n",
    "        digit_sum += int(i)\n",
    "    mean = digit_sum//len(list(str(num)))\n",
    "    return mean\n",
    "\n",
    "mean(512)"
   ]
  },
  {
   "cell_type": "code",
   "execution_count": null,
   "metadata": {},
   "outputs": [],
   "source": []
  }
 ],
 "metadata": {
  "kernelspec": {
   "display_name": "Python 3",
   "language": "python",
   "name": "python3"
  },
  "language_info": {
   "codemirror_mode": {
    "name": "ipython",
    "version": 3
   },
   "file_extension": ".py",
   "mimetype": "text/x-python",
   "name": "python",
   "nbconvert_exporter": "python",
   "pygments_lexer": "ipython3",
   "version": "3.8.5"
  }
 },
 "nbformat": 4,
 "nbformat_minor": 4
}
