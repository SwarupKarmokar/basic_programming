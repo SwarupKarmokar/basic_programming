{
 "cells": [
  {
   "cell_type": "markdown",
   "metadata": {},
   "source": [
    "# Programming_Assignment_16"
   ]
  },
  {
   "cell_type": "markdown",
   "metadata": {},
   "source": [
    "#### Question1. Write a function that stutters a word as if someone is struggling to read it. The\n",
    "#### first two letters are repeated twice with an ellipsis ... and space after each, and then the\n",
    "#### word is pronounced with a question mark ?.\n",
    "#### Examples\n",
    "#### stutter(&quot;incredible&quot;) ➞ &quot;in... in... incredible?&quot;\n",
    "#### stutter(&quot;enthusiastic&quot;) ➞ &quot;en... en... enthusiastic?&quot;\n",
    "#### stutter(&quot;outstanding&quot;) ➞ &quot;ou... ou... outstanding?&quot;\n",
    "\n",
    "#### Hint :- Assume all input is in lower case and at least two characters long."
   ]
  },
  {
   "cell_type": "code",
   "execution_count": 14,
   "metadata": {},
   "outputs": [
    {
     "data": {
      "text/plain": [
       "'in... in... incredible?'"
      ]
     },
     "execution_count": 14,
     "metadata": {},
     "output_type": "execute_result"
    }
   ],
   "source": [
    "def stutter(text):\n",
    "    output = text[:2],\"... \",text[:2],\"... \", text,\"?\"\n",
    "    return \"\".join(output)\n",
    "\n",
    "stutter(\"incredible\")"
   ]
  },
  {
   "cell_type": "markdown",
   "metadata": {},
   "source": [
    "#### Question 2.Create a function that takes an angle in radians and returns the corresponding\n",
    "#### angle in degrees rounded to one decimal place.\n",
    "#### Examples\n",
    "#### radians_to_degrees(1) ➞ 57.3\n",
    "#### radians_to_degrees(20) ➞ 1145.9\n",
    "#### radians_to_degrees(50) ➞ 2864.8"
   ]
  },
  {
   "cell_type": "code",
   "execution_count": 17,
   "metadata": {},
   "outputs": [
    {
     "data": {
      "text/plain": [
       "57.3"
      ]
     },
     "execution_count": 17,
     "metadata": {},
     "output_type": "execute_result"
    }
   ],
   "source": [
    "pi = 3.14\n",
    "\n",
    "def radians_to_degrees(radian):\n",
    "    degree = radian * (180/pi)\n",
    "    return round(degree,1)\n",
    "\n",
    "radians_to_degrees(1)"
   ]
  },
  {
   "cell_type": "markdown",
   "metadata": {},
   "source": [
    "#### Question 3. In this challenge, establish if a given integer num is a Curzon number. If 1 plus\n",
    "#### 2 elevated to num is exactly divisible by 1 plus 2 multiplied by num, then num is a Curzon\n",
    "#### number.\n",
    "#### Given a non-negative integer num, implement a function that returns True if num is a Curzon\n",
    "#### number, or False otherwise.\n",
    "#### Examples\n",
    "#### is_curzon(5) ➞ True\n",
    "#### # 2 ** 5 + 1 = 33\n",
    "#### # 2 * 5 + 1 = 11\n",
    "#### # 33 is a multiple of 11"
   ]
  },
  {
   "cell_type": "code",
   "execution_count": 25,
   "metadata": {},
   "outputs": [
    {
     "name": "stdin",
     "output_type": "stream",
     "text": [
      "enter the number:  10\n"
     ]
    },
    {
     "data": {
      "text/plain": [
       "False"
      ]
     },
     "execution_count": 25,
     "metadata": {},
     "output_type": "execute_result"
    }
   ],
   "source": [
    "def is_curzon(num):\n",
    "    output1 = 2**num + 1\n",
    "    output2 = 2*num + 1\n",
    "\n",
    "    if output1%output2==0:\n",
    "        return True\n",
    "    else:\n",
    "        return False\n",
    "    \n",
    "is_curzon(int(input('enter the number: ')))"
   ]
  },
  {
   "cell_type": "markdown",
   "metadata": {},
   "source": [
    "#### Question 4.Given the side length x find the area of a hexagon.\n",
    "### Examples\n",
    "### area_of_hexagon(1) ➞ 2.6"
   ]
  },
  {
   "cell_type": "code",
   "execution_count": 31,
   "metadata": {},
   "outputs": [
    {
     "name": "stdin",
     "output_type": "stream",
     "text": [
      "enter the side length of hexagon:  2\n"
     ]
    },
    {
     "data": {
      "text/plain": [
       "10.39"
      ]
     },
     "execution_count": 31,
     "metadata": {},
     "output_type": "execute_result"
    }
   ],
   "source": [
    "import math\n",
    "def hex_area(num):\n",
    "    area = (3*math.sqrt(3)*num**2)/2\n",
    "    return round(area,2)\n",
    "\n",
    "hex_area(float(input('enter the side length of hexagon: ')))"
   ]
  },
  {
   "cell_type": "markdown",
   "metadata": {},
   "source": [
    "#### Question 5. Create a function that returns a base-2 (binary) representation of a base-10\n",
    "#### (decimal) string number. To convert is simple: ((2) means base-2 and (10) means base-10)\n",
    "#### 010101001(2) = 1 + 8 + 32 + 128.\n",
    "#### Going from right to left, the value of the most right bit is 1, now from that every bit to the left\n",
    "#### will be x2 the value, value of an 8 bit binary numbers are (256, 128, 64, 32, 16, 8, 4, 2, 1).\n",
    "#### Examples\n",
    "#### binary(1) ➞ &quot;1&quot;\n",
    "#### # 1*1 = 1"
   ]
  },
  {
   "cell_type": "code",
   "execution_count": 32,
   "metadata": {},
   "outputs": [
    {
     "name": "stdin",
     "output_type": "stream",
     "text": [
      "enter your numer:  5\n"
     ]
    },
    {
     "data": {
      "text/plain": [
       "'101'"
      ]
     },
     "execution_count": 32,
     "metadata": {},
     "output_type": "execute_result"
    }
   ],
   "source": [
    "def binary(num):\n",
    "    return bin(num).replace(\"0b\",\"\")\n",
    "\n",
    "binary(int(input('enter your numer: ')))"
   ]
  },
  {
   "cell_type": "code",
   "execution_count": null,
   "metadata": {},
   "outputs": [],
   "source": []
  }
 ],
 "metadata": {
  "kernelspec": {
   "display_name": "Python 3",
   "language": "python",
   "name": "python3"
  },
  "language_info": {
   "codemirror_mode": {
    "name": "ipython",
    "version": 3
   },
   "file_extension": ".py",
   "mimetype": "text/x-python",
   "name": "python",
   "nbconvert_exporter": "python",
   "pygments_lexer": "ipython3",
   "version": "3.8.5"
  }
 },
 "nbformat": 4,
 "nbformat_minor": 4
}
