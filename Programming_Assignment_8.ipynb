{
 "cells": [
  {
   "cell_type": "markdown",
   "metadata": {},
   "source": [
    "# Programming_Assignment_8"
   ]
  },
  {
   "cell_type": "markdown",
   "metadata": {},
   "source": [
    "#### 1. Write a Python Program to Add Two Matrices?"
   ]
  },
  {
   "cell_type": "code",
   "execution_count": null,
   "metadata": {},
   "outputs": [],
   "source": [
    "X = [[1,3,5],\n",
    "    [2,3,5],\n",
    "    [4,5,7]]\n",
    "\n",
    "Y = [[4,56,7],\n",
    "    [2,4,5],\n",
    "    [5,6,7]]\n",
    "\n",
    "result = [[0,0,0],\n",
    "         [0,0,0],\n",
    "         [0,0,0]]\n",
    "\n",
    "for i in range(len(X)):  \n",
    "    for j in range(len(X[0])):\n",
    "        result[i][j] = X[i][j] + Y[i][j]\n",
    "\n",
    "for output in result:\n",
    "    print(output)"
   ]
  },
  {
   "cell_type": "markdown",
   "metadata": {},
   "source": [
    "#### 2. Write a Python Program to Multiply Two Matrices?"
   ]
  },
  {
   "cell_type": "code",
   "execution_count": null,
   "metadata": {},
   "outputs": [],
   "source": [
    "X = [[1,2,3],  \n",
    "    [4,5,6],  \n",
    "    [7,8,9]]  \n",
    "  \n",
    "Y = [[1,11,2],  \n",
    "      [3,14,15],  \n",
    "      [6,7,18]]  \n",
    "  \n",
    "Result = [[0,0,0],  \n",
    "         [0,0,0],  \n",
    "         [0,0,0]] \n",
    "\n",
    "for i in range(len(X)):\n",
    "    for  j in range(len(Y[0])):  \n",
    "        for k in range(len(Y)):  \n",
    "            result[i][j] += X[i][k] * Y[k][j]  \n",
    "for output in result:  \n",
    "    print(output)  "
   ]
  },
  {
   "cell_type": "markdown",
   "metadata": {},
   "source": [
    "#### 3. Write a Python Program to Transpose a Matrix?"
   ]
  },
  {
   "cell_type": "code",
   "execution_count": null,
   "metadata": {},
   "outputs": [],
   "source": [
    "X = [[1,2],  \n",
    "      [4,5],  \n",
    "     [7,8]]  \n",
    "  \n",
    "result = [[0,0,0],  \n",
    "        [0,0,0]]  \n",
    "  \n",
    "for i in range(len(X)):  \n",
    "    for j in range(len(X[0])):  \n",
    "        result[j][i] = X[i][j] \n",
    "        \n",
    "for r in result:  \n",
    "    print(r) "
   ]
  },
  {
   "cell_type": "markdown",
   "metadata": {},
   "source": [
    "#### 4. Write a Python Program to Sort Words in Alphabetic Order?"
   ]
  },
  {
   "cell_type": "code",
   "execution_count": null,
   "metadata": {},
   "outputs": [],
   "source": [
    "alphabet = []\n",
    "arr_range = int(input('enter how much element you want in the array: '))\n",
    "\n",
    "\n",
    "for i in range(arr_range):\n",
    "    alphabet.append(input('enter the alphabet: '))\n",
    "    \n",
    "alphabet.sort()\n",
    "print('\\nsorted alphabetic order is = ',alphabet)"
   ]
  },
  {
   "cell_type": "markdown",
   "metadata": {},
   "source": [
    "#### 5. Write a Python Program to Remove Punctuation From a String?"
   ]
  },
  {
   "cell_type": "code",
   "execution_count": null,
   "metadata": {},
   "outputs": [],
   "source": [
    "punc = '''!()-[]{};:'\"\\,<>./?@#$%^&*_~'''\n",
    "\n",
    "no_punct = \"\"\n",
    "\n",
    "my_str = input('enter your string: ')\n",
    "for i in my_str:\n",
    "    if i not in punc:\n",
    "        no_punct = no_punct + i\n",
    "        \n",
    "print(no_punct)"
   ]
  },
  {
   "cell_type": "code",
   "execution_count": null,
   "metadata": {},
   "outputs": [],
   "source": []
  }
 ],
 "metadata": {
  "kernelspec": {
   "display_name": "Python 3",
   "language": "python",
   "name": "python3"
  },
  "language_info": {
   "codemirror_mode": {
    "name": "ipython",
    "version": 3
   },
   "file_extension": ".py",
   "mimetype": "text/x-python",
   "name": "python",
   "nbconvert_exporter": "python",
   "pygments_lexer": "ipython3",
   "version": "3.8.5"
  }
 },
 "nbformat": 4,
 "nbformat_minor": 4
}
