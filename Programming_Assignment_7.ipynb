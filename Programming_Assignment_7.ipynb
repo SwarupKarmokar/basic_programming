{
 "cells": [
  {
   "cell_type": "markdown",
   "metadata": {},
   "source": [
    "# Programming_Assignment_7"
   ]
  },
  {
   "cell_type": "markdown",
   "metadata": {},
   "source": [
    "#### 1. Write a Python Program to find sum of array?"
   ]
  },
  {
   "cell_type": "code",
   "execution_count": null,
   "metadata": {},
   "outputs": [],
   "source": [
    "arr_list = []\n",
    "arr_range = int(input('enter how much element you want in the array: '))\n",
    "\n",
    "\n",
    "for i in range(arr_range):\n",
    "    arr_list.append(int(input('enter the element: ')))\n",
    "\n",
    "add = 0\n",
    "for i in arr_list:\n",
    "    add = add + i\n",
    "\n",
    "print('\\nthe array list is =',arr_list)\n",
    "print('\\nthe sum of the array element is =',add)"
   ]
  },
  {
   "cell_type": "markdown",
   "metadata": {},
   "source": [
    "#### 2. Write a Python Program to find largest element in an array?"
   ]
  },
  {
   "cell_type": "code",
   "execution_count": null,
   "metadata": {},
   "outputs": [],
   "source": [
    "arr_list = []\n",
    "arr_range = int(input('enter how much element you want in the array: '))\n",
    "\n",
    "\n",
    "for i in range(arr_range):\n",
    "    arr_list.append(int(input('enter the element: ')))\n",
    "\n",
    "print('\\nthe array list is =',arr_list)\n",
    "\n",
    "print('The largest element in the array is = ',max(arr_list))"
   ]
  },
  {
   "cell_type": "markdown",
   "metadata": {},
   "source": [
    "#### 3. Write a Python Program for array rotation?"
   ]
  },
  {
   "cell_type": "code",
   "execution_count": null,
   "metadata": {},
   "outputs": [],
   "source": [
    "arr_list = []\n",
    "arr_range = int(input('enter how much element you want in the array: '))\n",
    "\n",
    "\n",
    "for i in range(arr_range):\n",
    "    arr_list.append(int(input('enter the element: ')))\n",
    "\n",
    "print('\\nthe array list is =',arr_list)\n",
    "print('\\nyour rotated array is = ',arr_list[::-1])"
   ]
  },
  {
   "cell_type": "markdown",
   "metadata": {},
   "source": [
    "#### 4. Write a Python Program to Split the array and add the first part to the end?"
   ]
  },
  {
   "cell_type": "code",
   "execution_count": null,
   "metadata": {},
   "outputs": [],
   "source": [
    "arr_list = []\n",
    "arr_range = int(input('enter how much element you want in the array: '))\n",
    "\n",
    "\n",
    "for i in range(arr_range):\n",
    "    arr_list.append(int(input('enter the element: ')))\n",
    "\n",
    "print('\\nthe array list is =',arr_list)\n",
    "\n",
    "print('\\nnew array ==> ',arr_list[len(arr_list)//2:] + arr_list[:len(arr_list)//2])"
   ]
  },
  {
   "cell_type": "markdown",
   "metadata": {},
   "source": [
    "#### 5. Write a Python Program to check if given array is Monotonic?"
   ]
  },
  {
   "cell_type": "code",
   "execution_count": null,
   "metadata": {},
   "outputs": [],
   "source": [
    "A = []\n",
    "arr_range = int(input('enter how much element you want in the array: '))\n",
    "\n",
    "\n",
    "for i in range(arr_range):\n",
    "    A.append(int(input('enter the element: ')))\n",
    "\n",
    "print('\\nthe array list is =',A)\n",
    "\n",
    "def isMonotonic(A):\n",
    "  \n",
    "    return (all(A[i] <= A[i + 1] for i in range(len(A) - 1)) or all(A[i] >= A[i + 1] for i in range(len(A) - 1)))\n",
    "\n",
    "isMonotonic(A)"
   ]
  },
  {
   "cell_type": "code",
   "execution_count": null,
   "metadata": {},
   "outputs": [],
   "source": []
  }
 ],
 "metadata": {
  "kernelspec": {
   "display_name": "Python 3",
   "language": "python",
   "name": "python3"
  },
  "language_info": {
   "codemirror_mode": {
    "name": "ipython",
    "version": 3
   },
   "file_extension": ".py",
   "mimetype": "text/x-python",
   "name": "python",
   "nbconvert_exporter": "python",
   "pygments_lexer": "ipython3",
   "version": "3.8.5"
  }
 },
 "nbformat": 4,
 "nbformat_minor": 4
}
