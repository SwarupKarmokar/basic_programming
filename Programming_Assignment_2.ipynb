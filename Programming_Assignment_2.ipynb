{
 "cells": [
  {
   "cell_type": "markdown",
   "metadata": {},
   "source": [
    "# Programming_Assignment_2"
   ]
  },
  {
   "cell_type": "markdown",
   "metadata": {},
   "source": [
    "#### 1. Write a Python program to convert kilometers to miles?"
   ]
  },
  {
   "cell_type": "code",
   "execution_count": null,
   "metadata": {},
   "outputs": [],
   "source": [
    "kim = float(input('enter the kilometers: '))\n",
    "\n",
    "miles = kim / 1.609\n",
    "print(f\"\\n{kim} kilometers = {miles} miles.\")"
   ]
  },
  {
   "cell_type": "markdown",
   "metadata": {},
   "source": [
    "#### 2. Write a Python program to convert Celsius to Fahrenheit?"
   ]
  },
  {
   "cell_type": "code",
   "execution_count": null,
   "metadata": {},
   "outputs": [],
   "source": [
    "celcius = int(input('enter the celcius: '))\n",
    "\n",
    "fahrenhiet = ((celcius * 9/5) + 32)\n",
    "print(f\"\\n{celcius} Celcius = {fahrenhiet} Fahrenheit\")"
   ]
  },
  {
   "cell_type": "markdown",
   "metadata": {},
   "source": [
    "#### 3. Write a Python program to display calendar?"
   ]
  },
  {
   "cell_type": "code",
   "execution_count": null,
   "metadata": {},
   "outputs": [],
   "source": [
    "import calendar\n",
    "\n",
    "year = int(input('enter the year: '))\n",
    "month = int(input('enter the month: '))\n",
    "\n",
    "my_calender = calendar.month(year,month)\n",
    "print('\\n')\n",
    "print(my_calender)"
   ]
  },
  {
   "cell_type": "markdown",
   "metadata": {},
   "source": [
    "#### 4. Write a Python program to solve quadratic equation?"
   ]
  },
  {
   "cell_type": "code",
   "execution_count": null,
   "metadata": {},
   "outputs": [],
   "source": [
    "from math import sqrt\n",
    "\n",
    "b = float(input('enter the value of b: '))\n",
    "a = float(input('enter the value of a: '))\n",
    "c = float(input('enter the value of c: '))\n",
    "\n",
    "solution1 = (-b + sqrt(b**2 - 4*a*c)) / (2*a)\n",
    "solution2 = (-b - sqrt(b**2 - 4*a*c)) / (2*a)\n",
    "\n",
    "print('\\nThere are two solution {} and {}'.format(solution1,solution2))"
   ]
  },
  {
   "cell_type": "markdown",
   "metadata": {},
   "source": [
    "#### 5. Write a Python program to swap two variables without temp variable?"
   ]
  },
  {
   "cell_type": "code",
   "execution_count": null,
   "metadata": {},
   "outputs": [],
   "source": [
    "a = int(input('enter the value of a: '))\n",
    "b = int(input('enter the value of b: '))\n",
    "\n",
    "a, b = b, a\n",
    "\n",
    "print('\\nswap value of a =', a)\n",
    "print('swap value of b =', b)"
   ]
  },
  {
   "cell_type": "code",
   "execution_count": null,
   "metadata": {},
   "outputs": [],
   "source": []
  }
 ],
 "metadata": {
  "kernelspec": {
   "display_name": "Python 3",
   "language": "python",
   "name": "python3"
  },
  "language_info": {
   "codemirror_mode": {
    "name": "ipython",
    "version": 3
   },
   "file_extension": ".py",
   "mimetype": "text/x-python",
   "name": "python",
   "nbconvert_exporter": "python",
   "pygments_lexer": "ipython3",
   "version": "3.8.5"
  }
 },
 "nbformat": 4,
 "nbformat_minor": 4
}
