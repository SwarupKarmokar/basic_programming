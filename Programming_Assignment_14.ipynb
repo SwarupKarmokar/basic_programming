{
 "cells": [
  {
   "cell_type": "markdown",
   "metadata": {},
   "source": [
    "# Programming_Assignment_14"
   ]
  },
  {
   "cell_type": "markdown",
   "metadata": {},
   "source": [
    "#### Question 1:\n",
    "#### Define a class with a generator which can iterate the numbers, which are divisible by 7, between a given range 0 and n."
   ]
  },
  {
   "cell_type": "code",
   "execution_count": null,
   "metadata": {},
   "outputs": [],
   "source": [
    "n = int(input('enter the value of n: '))\n",
    "div_list = [i for i in range(0, n) if (i % 7 == 0)]\n",
    "print('\\ndivision list is = ',div_list)\n",
    "\n",
    "def divChecker(n):\n",
    "    for i in range(n):\n",
    "        if i % 7 == 0:\n",
    "            value = True\n",
    "        else:\n",
    "            value = False\n",
    "        print(i, value)\n",
    "\n",
    "divChecker(n)"
   ]
  },
  {
   "cell_type": "markdown",
   "metadata": {},
   "source": [
    "#### Question 2:\n",
    "#### Write a program to compute the frequency of the words from the input. The output\n",
    "#### should output after sorting the key alphanumerically.\n",
    "#### Suppose the following input is supplied to the program:\n",
    "#### New to Python or choosing between Python 2 and Python 3? Read Python 2 or\n",
    "#### Python 3.\n",
    "#### Then, the output should be:\n",
    "#### 2:2\n",
    "#### 3.:1\n",
    "#### 3?:1\n",
    "#### New:1\n",
    "#### Python:5\n",
    "#### Read:1\n",
    "#### and:1\n",
    "#### between:1\n",
    "#### choosing:1\n",
    "#### or:2\n",
    "#### to:1"
   ]
  },
  {
   "cell_type": "code",
   "execution_count": null,
   "metadata": {},
   "outputs": [],
   "source": [
    "import operator\n",
    "\n",
    "text_line = input(\"Type in: \")\n",
    "\n",
    "freq_dict = {}\n",
    "\n",
    "for i in text_line.split(' '):\n",
    "    if i.isalpha():\n",
    "        if i not in freq_dict:\n",
    "            freq_dict[i] = 1\n",
    "        elif i in freq_dict:\n",
    "            freq_dict[i] = freq_dict[i] + 1\n",
    "    else:\n",
    "        pass\n",
    "\n",
    "sorted_freq_dict = sorted(freq_dict.items(), key = operator.itemgetter(0))\n",
    "print(sorted_freq_dict)\n",
    "\n",
    "for i in sorted_freq_dict:\n",
    "    print(i[0], i[1])"
   ]
  },
  {
   "cell_type": "markdown",
   "metadata": {},
   "source": [
    "#### Question 3:\n",
    "\n",
    "#### Define a class Person and its two child classes: Male and Female. All classes have a\n",
    "#### method &quot;getGender&quot; which can print &quot;Male&quot; for Male class and &quot;Female&quot; for Female\n",
    "#### class."
   ]
  },
  {
   "cell_type": "code",
   "execution_count": null,
   "metadata": {},
   "outputs": [],
   "source": [
    "class Person():\n",
    "    def __init__(self):\n",
    "        def getGender(self):\n",
    "            return 'person created'\n",
    "\n",
    "class Male( Person ):\n",
    "    def getGender( self ):\n",
    "        return \"Male\"\n",
    "\n",
    "class Female( Person ):\n",
    "    def getGender( self ):\n",
    "        return \"Female\"\n",
    "    \n",
    "male_gen = Male()\n",
    "female_gen = Female()\n",
    "\n",
    "print(male_gen.getGender())\n",
    "print(female_gen.getGender())"
   ]
  },
  {
   "cell_type": "markdown",
   "metadata": {},
   "source": [
    "#### Question 4:\n",
    "#### Please write a program to generate all sentences where subject is in [&quot;I&quot;, &quot;You&quot;] and\n",
    "#### verb is in [&quot;Play&quot;, &quot;Love&quot;] and the object is in [&quot;Hockey&quot;,&quot;Football&quot;]."
   ]
  },
  {
   "cell_type": "code",
   "execution_count": null,
   "metadata": {},
   "outputs": [],
   "source": [
    "subject=[\"I\", \"You\"]\n",
    "verb= [\"Play\", \"Love\"]\n",
    "obj=[\"Hockey\",\"Football\"]\n",
    "\n",
    "\n",
    "sentence_list = [(sub+\" \"+ vb + \" \" + ob) for sub in subject for vb in verb for ob in obj]\n",
    "for sentence in sentence_list:\n",
    "    print (sentence)"
   ]
  },
  {
   "cell_type": "markdown",
   "metadata": {},
   "source": [
    "#### Question 5:\n",
    "#### Please write a program to compress and decompress the string &quot;hello world!hello\n",
    "#### world!hello world!hello world!&quot;."
   ]
  },
  {
   "cell_type": "code",
   "execution_count": null,
   "metadata": {},
   "outputs": [],
   "source": [
    "import zlib\n",
    "text=\"hello world!hello world!hello world!hello world!\"\n",
    "y = bytes(text, 'utf-8')\n",
    "x = zlib.compress(y)\n",
    "print(x)\n",
    "print(zlib.decompress(x))"
   ]
  },
  {
   "cell_type": "markdown",
   "metadata": {},
   "source": [
    "#### Question 6:\n",
    "#### Please write a binary search function which searches an item in a sorted list. The\n",
    "#### function should return the index of element to be searched in the list."
   ]
  },
  {
   "cell_type": "code",
   "execution_count": null,
   "metadata": {},
   "outputs": [],
   "source": [
    "def binary_search_Ascending(my_list, target):\n",
    "    lower = 0\n",
    "    upper = len(my_list)\n",
    "    print('Array Length:',upper)\n",
    "    while lower < upper:\n",
    "        x = (lower + upper) // 2\n",
    "        print('Middle Value:',x)\n",
    "        value = my_list[x]\n",
    "        if target == value:\n",
    "            return x\n",
    "        elif target > value:\n",
    "            lower = x\n",
    "        elif target < value:\n",
    "            upper = x\n",
    "\n",
    "lim = int(input('enter the list element limit: '))\n",
    "data = []\n",
    "for i in range(lim):\n",
    "    data.append(int(input('enter list data: ')))\n",
    "    \n",
    "data.sort()\n",
    "my_list = data\n",
    "print('\\nlist is =',(my_list))\n",
    "\n",
    "target = int(input('enter the element you want to search: '))\n",
    "print('\\nsearch index is = ',binary_search_Ascending(my_list, target))  "
   ]
  }
 ],
 "metadata": {
  "kernelspec": {
   "name": "python385jvsc74a57bd0e03279686b3b8d4d34db62935c6ffaabb3e0b5b1fa0c9a858b6ef076aaf4b9ef",
   "display_name": "Python 3.8.5 64-bit ('pytorch': conda)"
  },
  "language_info": {
   "codemirror_mode": {
    "name": "ipython",
    "version": 3
   },
   "file_extension": ".py",
   "mimetype": "text/x-python",
   "name": "python",
   "nbconvert_exporter": "python",
   "pygments_lexer": "ipython3",
   "version": "3.8.5"
  }
 },
 "nbformat": 4,
 "nbformat_minor": 4
}