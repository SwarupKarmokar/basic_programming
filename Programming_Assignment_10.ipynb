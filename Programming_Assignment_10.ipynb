{
 "cells": [
  {
   "cell_type": "markdown",
   "metadata": {},
   "source": [
    "# Programming_Assignment_10"
   ]
  },
  {
   "cell_type": "markdown",
   "metadata": {},
   "source": [
    "#### 1. Write a Python program to find sum of elements in list?"
   ]
  },
  {
   "cell_type": "code",
   "execution_count": 1,
   "metadata": {},
   "outputs": [
    {
     "name": "stdin",
     "output_type": "stream",
     "text": [
      "enter how much element you want in the array:  2\n",
      "enter the element:  55\n",
      "enter the element:  5\n"
     ]
    },
    {
     "name": "stdout",
     "output_type": "stream",
     "text": [
      "\n",
      "the array list is = [55, 5]\n",
      "\n",
      "the sum of the array element is = 60\n"
     ]
    }
   ],
   "source": [
    "my_list = []\n",
    "list_range = int(input('enter how much element you want in the list: '))\n",
    "\n",
    "\n",
    "for i in range(list_range):\n",
    "    my_list.append(int(input('enter the element: ')))\n",
    "\n",
    "add = 0\n",
    "for i in my_list:\n",
    "    add = add + i\n",
    "\n",
    "print('\\nthe list is =',my_list)\n",
    "print('\\nthe sum of the list element is =',add)"
   ]
  },
  {
   "cell_type": "markdown",
   "metadata": {},
   "source": [
    "#### 2. Write a Python program to Multiply all numbers in the list?"
   ]
  },
  {
   "cell_type": "code",
   "execution_count": 4,
   "metadata": {},
   "outputs": [
    {
     "name": "stdin",
     "output_type": "stream",
     "text": [
      "enter how much element you want in the list:  5\n",
      "enter the element:  0\n",
      "enter the element:  2\n",
      "enter the element:  5\n",
      "enter the element:  5\n",
      "enter the element:  2\n"
     ]
    },
    {
     "name": "stdout",
     "output_type": "stream",
     "text": [
      "\n",
      "the list is = [0, 2, 5, 5, 2]\n",
      "\n",
      "the multiplication of the list element is = 0\n"
     ]
    }
   ],
   "source": [
    "my_list = []\n",
    "list_range = int(input('enter how much element you want in the list: '))\n",
    "\n",
    "\n",
    "for i in range(list_range):\n",
    "    my_list.append(int(input('enter the element: ')))\n",
    "\n",
    "mul = 1\n",
    "for i in my_list:\n",
    "    mul = mul * i\n",
    "\n",
    "print('\\nthe list is =',my_list)\n",
    "print('\\nthe multiplication of the list element is =',mul)"
   ]
  },
  {
   "cell_type": "markdown",
   "metadata": {},
   "source": [
    "#### 3. Write a Python program to find smallest number in a list?"
   ]
  },
  {
   "cell_type": "code",
   "execution_count": 5,
   "metadata": {},
   "outputs": [
    {
     "name": "stdin",
     "output_type": "stream",
     "text": [
      "enter how much element you want in the array:  4\n",
      "enter the element:  1\n",
      "enter the element:  4\n",
      "enter the element:  5\n",
      "enter the element:  6\n"
     ]
    },
    {
     "name": "stdout",
     "output_type": "stream",
     "text": [
      "\n",
      "the list is = [1, 4, 5, 6]\n",
      "The smallest element in the list is =  1\n"
     ]
    }
   ],
   "source": [
    "my_list = []\n",
    "list_range = int(input('enter how much element you want in the array: '))\n",
    "\n",
    "\n",
    "for i in range(list_range):\n",
    "    my_list.append(int(input('enter the element: ')))\n",
    "\n",
    "print('\\nthe list is =',my_list)\n",
    "\n",
    "print('The smallest element in the list is = ',min(my_list))"
   ]
  },
  {
   "cell_type": "markdown",
   "metadata": {},
   "source": [
    "#### 4. Write a Python program to find largest number in a list?"
   ]
  },
  {
   "cell_type": "code",
   "execution_count": null,
   "metadata": {},
   "outputs": [],
   "source": [
    "my_list = []\n",
    "list_range = int(input('enter how much element you want in the array: '))\n",
    "\n",
    "\n",
    "for i in range(list_range):\n",
    "    my_list.append(int(input('enter the element: ')))\n",
    "\n",
    "print('\\nthe list is =',my_list)\n",
    "\n",
    "print('The largest element in the list is = ',max(my_list))"
   ]
  },
  {
   "cell_type": "markdown",
   "metadata": {},
   "source": [
    "#### 5. Write a Python program to find second largest number in a list?"
   ]
  },
  {
   "cell_type": "code",
   "execution_count": 7,
   "metadata": {},
   "outputs": [
    {
     "name": "stdin",
     "output_type": "stream",
     "text": [
      "enter how much element you want in the array:  5\n",
      "enter the element:  12\n",
      "enter the element:  45\n",
      "enter the element:  74\n",
      "enter the element:  1\n",
      "enter the element:  45\n"
     ]
    },
    {
     "name": "stdout",
     "output_type": "stream",
     "text": [
      "\n",
      "the list is = [12, 45, 74, 1, 45]\n",
      "\n",
      "The second largest number is =  45\n"
     ]
    }
   ],
   "source": [
    "my_list = []\n",
    "list_range = int(input('enter how much element you want in the array: '))\n",
    "\n",
    "\n",
    "for i in range(list_range):\n",
    "    my_list.append(int(input('enter the element: ')))\n",
    "    \n",
    "print('\\nthe list is =',my_list)\n",
    "    \n",
    "my_list.sort()\n",
    "print('\\nThe second largest number is = ', my_list[-2])"
   ]
  },
  {
   "cell_type": "markdown",
   "metadata": {},
   "source": [
    "#### 6. Write a Python program to find N largest elements from a list?"
   ]
  },
  {
   "cell_type": "code",
   "execution_count": 10,
   "metadata": {},
   "outputs": [
    {
     "name": "stdin",
     "output_type": "stream",
     "text": [
      "enter how much element you want in the array:  5\n",
      "enter the element:  12\n",
      "enter the element:  45\n",
      "enter the element:  85\n",
      "enter the element:  65\n",
      "enter the element:  35\n"
     ]
    },
    {
     "name": "stdout",
     "output_type": "stream",
     "text": [
      "\n",
      "the list is = [12, 45, 85, 65, 35]\n"
     ]
    },
    {
     "name": "stdin",
     "output_type": "stream",
     "text": [
      "\n",
      "enter the value of N:  3\n"
     ]
    },
    {
     "name": "stdout",
     "output_type": "stream",
     "text": [
      "\n",
      "The N largest number of the list is =  [45, 65, 85]\n"
     ]
    }
   ],
   "source": [
    "my_list = []\n",
    "list_range = int(input('enter how much element you want in the array: '))\n",
    "\n",
    "\n",
    "for i in range(list_range):\n",
    "    my_list.append(int(input('enter the element: ')))\n",
    "    \n",
    "print('\\nthe list is =',my_list)\n",
    "    \n",
    "my_list.sort()\n",
    "\n",
    "N = int(input('\\nenter the value of N: '))\n",
    "print('\\nThe N largest number of the list is = ', my_list[-N:])"
   ]
  },
  {
   "cell_type": "code",
   "execution_count": 14,
   "metadata": {},
   "outputs": [
    {
     "name": "stdin",
     "output_type": "stream",
     "text": [
      "enter how much element you want in the array:  3\n",
      "enter the element:  12\n",
      "enter the element:  55\n",
      "enter the element:  54\n"
     ]
    },
    {
     "name": "stdout",
     "output_type": "stream",
     "text": [
      "\n",
      "the list is = [12, 55, 54]\n",
      "\n",
      "the number 12 is even\n",
      "\n",
      "the number 54 is even\n"
     ]
    }
   ],
   "source": [
    "my_list = []\n",
    "list_range = int(input('enter how much element you want in the array: '))\n",
    "\n",
    "\n",
    "for i in range(list_range):\n",
    "    my_list.append(int(input('enter the element: ')))\n",
    "    \n",
    "print('\\nthe list is =',my_list)\n",
    "\n",
    "for i in my_list:\n",
    "    if i % 2 == 0:\n",
    "        print(f\"\\nthe number {i} is even\")"
   ]
  },
  {
   "cell_type": "markdown",
   "metadata": {},
   "source": [
    "#### 8. Write a Python program to print odd numbers in a List?"
   ]
  },
  {
   "cell_type": "code",
   "execution_count": 16,
   "metadata": {},
   "outputs": [
    {
     "name": "stdin",
     "output_type": "stream",
     "text": [
      "enter how much element you want in the array:  3\n",
      "enter the element:  15\n",
      "enter the element:  45\n",
      "enter the element:  64\n"
     ]
    },
    {
     "name": "stdout",
     "output_type": "stream",
     "text": [
      "\n",
      "the list is = [15, 45, 64]\n",
      "\n",
      "the number 15 is odd\n",
      "\n",
      "the number 45 is odd\n"
     ]
    }
   ],
   "source": [
    "my_list = []\n",
    "list_range = int(input('enter how much element you want in the array: '))\n",
    "\n",
    "\n",
    "for i in range(list_range):\n",
    "    my_list.append(int(input('enter the element: ')))\n",
    "    \n",
    "print('\\nthe list is =',my_list)\n",
    "\n",
    "for i in my_list:\n",
    "    if i % 2 != 0:\n",
    "        print(f\"\\nthe number {i} is odd\")"
   ]
  },
  {
   "cell_type": "markdown",
   "metadata": {},
   "source": [
    "#### 9. Write a Python program to Remove empty List from List?"
   ]
  },
  {
   "cell_type": "code",
   "execution_count": 5,
   "metadata": {},
   "outputs": [
    {
     "name": "stdout",
     "output_type": "stream",
     "text": [
      "[1, 2, 4, 'a']\n"
     ]
    }
   ],
   "source": [
    "my_list = [1, 2, \" \", 4, 'a', '']\n",
    "\n",
    "for i in my_list:\n",
    "    if type(i) == str:\n",
    "        if i == \"\" or i == \" \":\n",
    "            my_list.remove(i)\n",
    "            \n",
    "print(my_list)"
   ]
  },
  {
   "cell_type": "markdown",
   "metadata": {},
   "source": [
    "#### 10. Write a Python program to Cloning or Copying a list?"
   ]
  },
  {
   "cell_type": "code",
   "execution_count": 6,
   "metadata": {},
   "outputs": [
    {
     "name": "stdout",
     "output_type": "stream",
     "text": [
      "this is my copy list:  [1, 2, 4, 5]\n"
     ]
    }
   ],
   "source": [
    "my_list = [1, 2, 4, 5]\n",
    "\n",
    "copy_list = my_list.copy()\n",
    "print(\"this is my copy list: \", copy_list)"
   ]
  },
  {
   "cell_type": "markdown",
   "metadata": {},
   "source": [
    "#### 11. Write a Python program to Count occurrences of an element in a list?"
   ]
  },
  {
   "cell_type": "code",
   "execution_count": 4,
   "metadata": {},
   "outputs": [
    {
     "output_type": "stream",
     "name": "stdout",
     "text": [
      "the enter element 5\ncount is:  4\n"
     ]
    }
   ],
   "source": [
    "my_list = [11,3,3,4,55,5,5,5,5,4,4,4,3]\n",
    "x = int(input('enter the element, which you want to find count: '))\n",
    "print('the enter element',x)\n",
    "print('count is: ',my_list.count(x))"
   ]
  },
  {
   "cell_type": "code",
   "execution_count": null,
   "metadata": {},
   "outputs": [],
   "source": []
  }
 ],
 "metadata": {
  "kernelspec": {
   "name": "python385jvsc74a57bd0e03279686b3b8d4d34db62935c6ffaabb3e0b5b1fa0c9a858b6ef076aaf4b9ef",
   "display_name": "Python 3.8.5 64-bit ('pytorch': conda)"
  },
  "language_info": {
   "codemirror_mode": {
    "name": "ipython",
    "version": 3
   },
   "file_extension": ".py",
   "mimetype": "text/x-python",
   "name": "python",
   "nbconvert_exporter": "python",
   "pygments_lexer": "ipython3",
   "version": "3.8.5"
  }
 },
 "nbformat": 4,
 "nbformat_minor": 4
}